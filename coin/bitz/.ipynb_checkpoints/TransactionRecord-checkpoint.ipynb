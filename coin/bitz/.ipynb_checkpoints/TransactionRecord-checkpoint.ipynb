{
 "cells": [
  {
   "cell_type": "code",
   "execution_count": 19,
   "metadata": {},
   "outputs": [
    {
     "name": "stdout",
     "output_type": "stream",
     "text": [
      "             T          id       n        p     s         t\n",
      "0   1559575849  1033490031  0.0058  31.0002  sell  23:30:49\n",
      "1   1559575849  1033490030  0.0120  31.0006  sell  23:30:49\n",
      "2   1559575849  1033490029  0.0110  31.0007  sell  23:30:49\n",
      "3   1559575849  1033490028  0.0110  31.0008  sell  23:30:49\n",
      "4   1559575849  1033490027  0.0130  31.0009  sell  23:30:49\n",
      "5   1559575849  1033490026  0.0114  31.0010  sell  23:30:49\n",
      "6   1559575849  1033490025  0.0110  31.0110  sell  23:30:49\n",
      "7   1559575849  1033490024  0.0111  31.0120  sell  23:30:49\n",
      "8   1559575849  1033490023  0.0012  31.0130  sell  23:30:49\n",
      "9   1559575849  1033490022  0.0012  31.0160  sell  23:30:49\n",
      "10  1559575849  1033490021  0.0113  31.0190  sell  23:30:49\n",
      "11  1559575839  1033489190  0.0100  31.0160  sell  23:30:39\n",
      "12  1559575817  1033486696  0.0100  31.0130  sell  23:30:17\n",
      "13  1559575590  1033466370  0.0110  31.7995   buy  23:26:30\n",
      "14  1559575482  1033455294  0.0110  31.7996   buy  23:24:42\n",
      "15  1559575446  1033450759  0.0264  31.0019  sell  23:24:06\n",
      "16  1559575445  1033450480  0.0263  31.0019  sell  23:24:05\n",
      "17  1559575443  1033450288  0.0175  31.0019  sell  23:24:03\n",
      "18  1559575441  1033450028  0.0234  31.0019  sell  23:24:01\n",
      "19  1559575439  1033449898  0.0312  31.0019  sell  23:23:59\n",
      "20  1559575437  1033449811  0.0415  31.0019  sell  23:23:57\n",
      "21  1559575435  1033449688  0.0554  31.0019  sell  23:23:55\n",
      "22  1559575432  1033449147  0.0738  31.0019  sell  23:23:52\n",
      "23  1559575429  1033448827  0.0984  31.0019  sell  23:23:49\n",
      "24  1559575424  1033448337  0.1313  31.0019  sell  23:23:44\n",
      "25  1559575396  1033445616  0.0264  31.8000   buy  23:23:16\n",
      "26  1559575394  1033445294  0.0264  31.8000   buy  23:23:14\n",
      "27  1559575392  1033445154  0.0176  31.8000   buy  23:23:12\n",
      "28  1559575390  1033444999  0.0234  31.8000   buy  23:23:10\n",
      "29  1559575388  1033444795  0.0312  31.8000   buy  23:23:08\n",
      "30  1559575386  1033444674  0.0416  31.8000   buy  23:23:06\n",
      "31  1559575385  1033444506  0.0555  31.8000   buy  23:23:05\n",
      "32  1559575383  1033444161  0.0740  31.8000   buy  23:23:03\n",
      "33  1559575382  1033443968  0.0987  31.8000   buy  23:23:02\n",
      "34  1559575379  1033443786  0.1315  31.8000   buy  23:22:59\n",
      "35  1559575008  1033398049  0.1000  31.7000   buy  23:16:48\n",
      "36  1559574995  1033395828  1.0000  31.7000   buy  23:16:35\n",
      "37  1559574964  1033391973  5.9880  31.6000  sell  23:16:04\n",
      "38  1559574958  1033390635  0.1200  31.6000   buy  23:15:58\n",
      "39  1559574958  1033390634  0.1000  31.5000   buy  23:15:58\n",
      "40  1559574958  1033390633  0.1400  31.4000   buy  23:15:58\n",
      "41  1559574958  1033390632  0.1900  31.3000   buy  23:15:58\n",
      "42  1559574958  1033390631  0.1300  31.2000   buy  23:15:58\n",
      "43  1559574958  1033390630  0.1100  31.1000   buy  23:15:58\n",
      "44  1559574958  1033390629  0.1300  31.0500   buy  23:15:58\n",
      "45  1559574914  1033384527  8.0201  31.0000  sell  23:15:14\n",
      "46  1559574914  1033384526  2.0000  31.0000  sell  23:15:14\n",
      "47  1559574371  1033323840  8.0000  31.0000  sell  23:06:11\n",
      "48  1559574371  1033323839  1.0000  31.0001  sell  23:06:11\n",
      "49  1559574371  1033323838  1.0000  31.0012  sell  23:06:11\n",
      "success\n"
     ]
    }
   ],
   "source": [
    "import requests\n",
    "import json\n",
    "import time\n",
    "import pandas as pd\n",
    "import numpy as np\n",
    "from pandas import DataFrame \n",
    "\n",
    "url = 'https://api.ahighapi.com/Market/marketList?symbol=wdt_usdt'\n",
    "headers = {'User-Agent':'Mozilla/5.0 \\(Windows NT 6.1; WOW64\\) AppleWebKit/537.36 \\(KHTML, like Gecko\\) Chrome/39.0.2171.71 Safari/537.36'}\n",
    "response = requests.get(url, headers = headers)\n",
    "\n",
    "orderFormDict = json.loads(response.text)\n",
    "orders = orderFormDict['data']['order']\n",
    "df = pd.DataFrame(orders)\n",
    "print(df)\n",
    "\n",
    "\n",
    "currentDate = time.strftime('%Y-%m-%d',time.localtime(time.time()))\n",
    "df.to_csv('/data/coins/wdt' + currentDate + '.csv', mode ='a', header=False)\n",
    "\n",
    "\n",
    "print('success')\n"
   ]
  },
  {
   "cell_type": "code",
   "execution_count": 28,
   "metadata": {},
   "outputs": [
    {
     "name": "stdout",
     "output_type": "stream",
     "text": [
      "             T          id        n        p     s         t\n",
      "48  1559572912  1033133763   2.2351  31.0000  sell  22:41:52\n",
      "49  1559572912  1033133762   3.0000  31.0000  sell  22:41:52\n",
      "43  1559572912  1033133768   0.1212  31.0000  sell  22:41:52\n",
      "47  1559572912  1033133764   2.0000  31.0000  sell  22:41:52\n",
      "45  1559572912  1033133766  10.0000  31.0000  sell  22:41:52\n",
      "46  1559572912  1033133765  29.8066  31.0000  sell  22:41:52\n",
      "44  1559572912  1033133767   1.0999  31.0000  sell  22:41:52\n",
      "42  1559574181  1033302948   6.0000  31.4999   buy  23:03:01\n",
      "41  1559574191  1033303949   1.0000  31.3000   buy  23:03:11\n",
      "40  1559574214  1033306155   0.1172  31.4999   buy  23:03:34\n",
      "39  1559574351  1033321939   6.0000  31.0013  sell  23:05:51\n",
      "37  1559574371  1033323839   1.0000  31.0001  sell  23:06:11\n",
      "38  1559574371  1033323838   1.0000  31.0012  sell  23:06:11\n",
      "36  1559574371  1033323840   8.0000  31.0000  sell  23:06:11\n",
      "34  1559574914  1033384527   8.0201  31.0000  sell  23:15:14\n",
      "35  1559574914  1033384526   2.0000  31.0000  sell  23:15:14\n",
      "27  1559574958  1033390635   0.1200  31.6000   buy  23:15:58\n",
      "33  1559574958  1033390629   0.1300  31.0500   buy  23:15:58\n",
      "32  1559574958  1033390630   0.1100  31.1000   buy  23:15:58\n",
      "31  1559574958  1033390631   0.1300  31.2000   buy  23:15:58\n",
      "29  1559574958  1033390633   0.1400  31.4000   buy  23:15:58\n",
      "28  1559574958  1033390634   0.1000  31.5000   buy  23:15:58\n",
      "30  1559574958  1033390632   0.1900  31.3000   buy  23:15:58\n",
      "26  1559574964  1033391973   5.9880  31.6000  sell  23:16:04\n",
      "25  1559574995  1033395828   1.0000  31.7000   buy  23:16:35\n",
      "24  1559575008  1033398049   0.1000  31.7000   buy  23:16:48\n",
      "23  1559575379  1033443786   0.1315  31.8000   buy  23:22:59\n",
      "22  1559575382  1033443968   0.0987  31.8000   buy  23:23:02\n",
      "21  1559575383  1033444161   0.0740  31.8000   buy  23:23:03\n",
      "20  1559575385  1033444506   0.0555  31.8000   buy  23:23:05\n",
      "..         ...         ...      ...      ...   ...       ...\n",
      "18  1559575388  1033444795   0.0312  31.8000   buy  23:23:08\n",
      "17  1559575390  1033444999   0.0234  31.8000   buy  23:23:10\n",
      "16  1559575392  1033445154   0.0176  31.8000   buy  23:23:12\n",
      "15  1559575394  1033445294   0.0264  31.8000   buy  23:23:14\n",
      "14  1559575396  1033445616   0.0264  31.8000   buy  23:23:16\n",
      "13  1559575424  1033448337   0.1313  31.0019  sell  23:23:44\n",
      "12  1559575429  1033448827   0.0984  31.0019  sell  23:23:49\n",
      "11  1559575432  1033449147   0.0738  31.0019  sell  23:23:52\n",
      "10  1559575435  1033449688   0.0554  31.0019  sell  23:23:55\n",
      "9   1559575437  1033449811   0.0415  31.0019  sell  23:23:57\n",
      "8   1559575439  1033449898   0.0312  31.0019  sell  23:23:59\n",
      "7   1559575441  1033450028   0.0234  31.0019  sell  23:24:01\n",
      "6   1559575443  1033450288   0.0175  31.0019  sell  23:24:03\n",
      "5   1559575445  1033450480   0.0263  31.0019  sell  23:24:05\n",
      "4   1559575446  1033450759   0.0264  31.0019  sell  23:24:06\n",
      "3   1559575482  1033455294   0.0110  31.7996   buy  23:24:42\n",
      "2   1559575590  1033466370   0.0110  31.7995   buy  23:26:30\n",
      "1   1559575817  1033486696   0.0100  31.0130  sell  23:30:17\n",
      "0   1559575839  1033489190   0.0100  31.0160  sell  23:30:39\n",
      "0   1559575849  1033490031   0.0058  31.0002  sell  23:30:49\n",
      "1   1559575849  1033490030   0.0120  31.0006  sell  23:30:49\n",
      "2   1559575849  1033490029   0.0110  31.0007  sell  23:30:49\n",
      "3   1559575849  1033490028   0.0110  31.0008  sell  23:30:49\n",
      "4   1559575849  1033490027   0.0130  31.0009  sell  23:30:49\n",
      "5   1559575849  1033490026   0.0114  31.0010  sell  23:30:49\n",
      "6   1559575849  1033490025   0.0110  31.0110  sell  23:30:49\n",
      "7   1559575849  1033490024   0.0111  31.0120  sell  23:30:49\n",
      "8   1559575849  1033490023   0.0012  31.0130  sell  23:30:49\n",
      "9   1559575849  1033490022   0.0012  31.0160  sell  23:30:49\n",
      "10  1559575849  1033490021   0.0113  31.0190  sell  23:30:49\n",
      "\n",
      "[61 rows x 6 columns]\n"
     ]
    }
   ],
   "source": [
    "## 每日执行的周期任务：整理数据&发送邮件\n",
    "import time\n",
    "import pandas as pd\n",
    "\n",
    "currentDate = time.strftime('%Y-%m-%d',time.localtime(time.time()))\n",
    "df1 = pd.read_csv('/data/coins/wdt' + currentDate + '.csv', header=None, names = ['T', 'id', 'n', 'p', 's', 't'])\n",
    "df1.drop_duplicates(subset=['id'],keep='first',inplace=True)\n",
    "df2 = df1.sort_values(by=\"T\" , ascending=True)\n",
    "print(df2)\n"
   ]
  },
  {
   "cell_type": "code",
   "execution_count": 7,
   "metadata": {},
   "outputs": [
    {
     "name": "stdout",
     "output_type": "stream",
     "text": [
      "hello world\n"
     ]
    }
   ],
   "source": [
    "import myemail as me\n",
    "me.hello()"
   ]
  },
  {
   "cell_type": "code",
   "execution_count": null,
   "metadata": {},
   "outputs": [],
   "source": [
    "# fileName = '/data/coins/wdt' + currentDate + '.xlsx'\n",
    "# with pd.ExcelWriter(fileName) as writer:\n",
    "#     df.to_excel(writer, sheet_name='成交', merge_cells = False)"
   ]
  },
  {
   "cell_type": "code",
   "execution_count": 3,
   "metadata": {},
   "outputs": [
    {
     "name": "stdout",
     "output_type": "stream",
     "text": [
      "success\n"
     ]
    }
   ],
   "source": [
    "import smtplib\n",
    "from email.mime.text import MIMEText\n",
    "from email.utils import formataddr\n",
    "from email.mime.multipart import MIMEMultipart\n",
    "from email.header import Header\n",
    "  \n",
    "def mail(topic = '数据统计邮件',\n",
    "         formatText = '',\n",
    "         fileNameList = [],\n",
    "         my_user = 'fleebt@163.com', \n",
    "         my_sender = 'Info_Flee@163.com', \n",
    "         my_pass = '930630flee'):\n",
    "    ret=True\n",
    "    try:\n",
    "        msg = MIMEMultipart()\n",
    "\n",
    "        #msg=MIMEText('本邮件为系统自动发送，请勿回复\\n使用中遇到问题，请联系fleebt@163.com','plain','utf-8')\n",
    "        msg['From']=formataddr([\"Admin\",my_sender])  # 括号里的对应发件人邮箱昵称、发件人邮箱账号\n",
    "        msg['To']=formataddr([\"Flee\",my_user])       # 括号里的对应收件人邮箱昵称、收件人邮箱账号\n",
    "        msg['Subject']= topic                        # 邮件的主题，也可以说是标题\n",
    "        msg.attach(MIMEText(formatText + '\\n\\n本邮件为系统自动发送，请勿回复\\n使用中遇到问题，请联系fleebt@163.com', 'plain', 'utf-8'))\n",
    "\n",
    "        # 构造附件，传送当前目录下的文件\n",
    "        if not fileNameList:\n",
    "            for fileName in fileNameList:\n",
    "                att = MIMEText(open(fileName, 'rb').read(), 'base64', 'utf-8')\n",
    "                att[\"Content-Type\"] = 'application/octet-stream'\n",
    "                # 这里的filename可以任意写，写什么名字，邮件中显示什么名字\n",
    "                att[\"Content-Disposition\"] = 'attachment; filename=\"' + fileName + '\"'\n",
    "                msg.attach(att)\n",
    "        server=smtplib.SMTP_SSL(\"smtp.163.com\", 994)  # 发件人邮箱中的SMTP服务器，端口是25\n",
    "        server.login(my_sender, my_pass)  # 括号中对应的是发件人邮箱账号、邮箱密码\n",
    "        server.sendmail(my_sender,[my_user,],msg.as_string())  # 括号中对应的是发件人邮箱账号、收件人邮箱账号、发送邮件\n",
    "        server.quit()  # 关闭连接\n",
    "    except Exception as e:  # 如果 try 中的语句没有执行，则会执行下面的 ret=False\n",
    "        ret=False\n",
    "        print(e)\n",
    "    if ret:\n",
    "        print(\"邮件发送成功\")\n",
    "    else:\n",
    "        print(\"邮件发送失败\")\n",
    "    return ret\n",
    "# mail('fleebt@163.com', '新邮件哦', ['11.jpeg', 'myemail.py', 'WdtCoin_2019-06-03.xlsx'])\n",
    "print('success')"
   ]
  },
  {
   "cell_type": "code",
   "execution_count": 4,
   "metadata": {},
   "outputs": [
    {
     "name": "stdout",
     "output_type": "stream",
     "text": [
      "邮件发送成功\n"
     ]
    },
    {
     "data": {
      "text/plain": [
       "True"
      ]
     },
     "execution_count": 4,
     "metadata": {},
     "output_type": "execute_result"
    }
   ],
   "source": [
    "mail('测试邮件', '好看点的内容\\n是我们')"
   ]
  }
 ],
 "metadata": {
  "kernelspec": {
   "display_name": "Python 3",
   "language": "python",
   "name": "python3"
  },
  "language_info": {
   "codemirror_mode": {
    "name": "ipython",
    "version": 3
   },
   "file_extension": ".py",
   "mimetype": "text/x-python",
   "name": "python",
   "nbconvert_exporter": "python",
   "pygments_lexer": "ipython3",
   "version": "3.6.5"
  }
 },
 "nbformat": 4,
 "nbformat_minor": 2
}
