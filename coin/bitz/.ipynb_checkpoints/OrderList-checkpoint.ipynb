{
 "cells": [
  {
   "cell_type": "code",
   "execution_count": 90,
   "metadata": {},
   "outputs": [
    {
     "name": "stdout",
     "output_type": "stream",
     "text": [
      "success\n"
     ]
    }
   ],
   "source": [
    "import requests\n",
    "import json\n",
    "import time\n",
    "\n",
    "url = 'https://api.ahighapi.com/Market/marketList?symbol=wdt_usdt'\n",
    "headers = {'User-Agent':'Mozilla/5.0 \\(Windows NT 6.1; WOW64\\) AppleWebKit/537.36 \\(KHTML, like Gecko\\) Chrome/39.0.2171.71 Safari/537.36'}\n",
    "response = requests.get(url, headers = headers)\n",
    "\n",
    "orderFormDict = json.loads(response.text)\n",
    "bids = orderFormDict['data']['depth']['bids']\n",
    "asks = orderFormDict['data']['depth']['asks']\n",
    "print('success')"
   ]
  },
  {
   "cell_type": "code",
   "execution_count": 91,
   "metadata": {},
   "outputs": [
    {
     "name": "stdout",
     "output_type": "stream",
     "text": [
      "success\n"
     ]
    }
   ],
   "source": [
    "import pandas as pd\n",
    "import numpy as np\n",
    "from pandas import DataFrame \n",
    "\n",
    "\n",
    "directory = '/data/coins/'\n",
    "currentDateWithTime = time.strftime('%Y-%m-%d %H点%M分',time.localtime(time.time()))\n",
    "fileName = '[WdtCoin]' + str(currentDateWithTime) + '.xlsx'\n",
    "\n",
    "bids_df = pd.DataFrame(bids, columns=['委托价', '数量', '总额']) \n",
    "asks_df = pd.DataFrame(asks, columns=['委托价', '数量', '总额']) \n",
    "bids_df['委托价'] = bids_df['委托价'].apply(float)\n",
    "bids_df['数量'] = bids_df['数量'].apply(float)\n",
    "bids_df['总额'] = bids_df['总额'].apply(float)\n",
    "asks_df['委托价'] = asks_df['委托价'].apply(float)\n",
    "asks_df['数量'] = asks_df['数量'].apply(float)\n",
    "asks_df['总额'] = asks_df['总额'].apply(float)\n",
    "\n",
    "\n",
    "def getBriefOrderList(df):\n",
    "    result = DataFrame([], columns=['委托价', '数量', '总额'])\n",
    "    integerList = []\n",
    "    for index, row in df.iterrows():\n",
    "        figure = int(row.委托价) \n",
    "        if figure not in integerList:\n",
    "            integerList.append(figure)\n",
    "    StatisticalMap = {}\n",
    "    for i in range(0, len(integerList)):\n",
    "        integer_key = integerList[i]\n",
    "        StatisticalMap[integer_key] = [0, 0]\n",
    "    for index, row in df.iterrows():\n",
    "        figure = int(row.委托价)\n",
    "        amount = StatisticalMap[figure][0]\n",
    "        volume = StatisticalMap[figure][1]\n",
    "        StatisticalMap[figure] = [amount+row.数量, volume+row.总额]\n",
    "    for key in integerList:\n",
    "        result = result.append({'委托价': key, '数量':StatisticalMap[key][0], '总额':StatisticalMap[key][1]}, ignore_index = True)        \n",
    "    return result\n",
    "#print(getBriefOrderList(asks_df))\n",
    "\n",
    "\n",
    "with pd.ExcelWriter(fileName) as writer:\n",
    "    bids_df.to_excel(writer, sheet_name='委托买单(详细)')\n",
    "    asks_df.to_excel(writer, sheet_name='委托卖单(详细)')\n",
    "    getBriefOrderList(bids_df).to_excel(writer, sheet_name='委托买单(简略)')\n",
    "    getBriefOrderList(asks_df).to_excel(writer, sheet_name='委托卖单(简略)')\n",
    "print('success')"
   ]
  }
 ],
 "metadata": {
  "kernelspec": {
   "display_name": "Python 3",
   "language": "python",
   "name": "python3"
  },
  "language_info": {
   "codemirror_mode": {
    "name": "ipython",
    "version": 3
   },
   "file_extension": ".py",
   "mimetype": "text/x-python",
   "name": "python",
   "nbconvert_exporter": "python",
   "pygments_lexer": "ipython3",
   "version": "3.6.5"
  }
 },
 "nbformat": 4,
 "nbformat_minor": 2
}
