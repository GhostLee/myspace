{
 "cells": [
  {
   "cell_type": "code",
   "execution_count": 6,
   "metadata": {},
   "outputs": [
    {
     "name": "stdout",
     "output_type": "stream",
     "text": [
      "一共8330个基金\n",
      "共成功处理0个基金\n",
      "存储失败的基金共0个[]\n"
     ]
    }
   ],
   "source": [
    "###toshare获取基金历史净值数据有流量限制，存文件\n",
    "import tushare as ts\n",
    "import time\n",
    "import pandas as pd\n",
    "import os\n",
    "\n",
    "try:\n",
    "    settingFile = open('/data/stock-setting.txt', 'r')\n",
    "    settings = settingFile.read()\n",
    "    token = settings.split()[0]\n",
    "    secretUrl = settings.split()[1]\n",
    "    settingFile.close()\n",
    "except IOError:\n",
    "    print('File is not accessible.')\n",
    "pro = ts.pro_api(token)\n",
    "\n",
    "###获取所有基金编码\n",
    "market = 'O'  ##交易市场: E场内 O场外（默认E）\n",
    "fund = pro.fund_basic(market = 'O', fields = 'ts_code, name, fund_type, issue_date, due_date, delist_date, min_amount, issue_amount, m_fee, c_fee, benchmark')\n",
    "\n",
    "pd.set_option('display.max_columns', None)\n",
    "pd.set_option('display.max_rows', None)\n",
    "\n",
    "print('一共' + str(fund.shape[0]) + '个基金')\n",
    "\n",
    "successCount = 0\n",
    "failedCodes = []\n",
    "for index, row in fund.iterrows():\n",
    "    try:\n",
    "        tsCode = row.ts_code\n",
    "        if not os.path.isfile('/data/stock/data/fund/history/' + tsCode + '.csv'):\n",
    "            time.sleep(1)\n",
    "            nav = pro.fund_nav(ts_code= tsCode, fields = 'ts_code, end_date, unit_nav, accum_nav, accum_div, adj_nav, ann_date')\n",
    "            nav.to_csv('/data/stock/data/fund/history/' + tsCode + '.csv')\n",
    "            successCount = successCount + 1\n",
    "            if index % 300 == 0:\n",
    "                print(str(index) + '个基金已经被处理...')\n",
    "    except BaseException as e:\n",
    "        failedCodes.append(tsCode)\n",
    "        pass\n",
    "    continue\n",
    "print('共成功处理' +  str(successCount) + '个基金')\n",
    "print('存储失败的基金共' + str(len(failedCodes)) + '个', end = '')\n",
    "print(failedCodes)"
   ]
  }
 ],
 "metadata": {
  "kernelspec": {
   "display_name": "Python 3",
   "language": "python",
   "name": "python3"
  },
  "language_info": {
   "codemirror_mode": {
    "name": "ipython",
    "version": 3
   },
   "file_extension": ".py",
   "mimetype": "text/x-python",
   "name": "python",
   "nbconvert_exporter": "python",
   "pygments_lexer": "ipython3",
   "version": "3.6.5"
  }
 },
 "nbformat": 4,
 "nbformat_minor": 2
}
