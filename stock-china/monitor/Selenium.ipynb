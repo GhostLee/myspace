{
 "cells": [
  {
   "cell_type": "code",
   "execution_count": 1,
   "metadata": {},
   "outputs": [
    {
     "name": "stderr",
     "output_type": "stream",
     "text": [
      "/Applications/anaconda3/lib/python3.6/site-packages/selenium/webdriver/phantomjs/webdriver.py:49: UserWarning: Selenium support for PhantomJS has been deprecated, please use headless versions of Chrome or Firefox instead\n",
      "  warnings.warn('Selenium support for PhantomJS has been deprecated, please use headless '\n"
     ]
    },
    {
     "name": "stdout",
     "output_type": "stream",
     "text": [
      "百度一下，你就知道\n",
      "标题：Welcome to Python.org官网 超链接：http://www.baidu.com/link?url=q28vjwAlonuwzBcH-oyJo3g2bhjWxcwtv7D1AmHmzFDmFeygziBP_liD0Mvo21yn\n",
      "标题：Python_官方电脑版_华军纯净下载 超链接：http://www.baidu.com/link?url=6wfw73vDakVCsAhDGIy29XhApX9nV_a_JU2nIblG_ZudGjkmBV3-ulyhaOf-1i3moCC3y4EoEHvmxD8M8fZ1ra\n",
      "标题：Python 3.7.4 documentation 超链接：http://www.baidu.com/link?url=tA-H859kCWr2s0A2_yEE-GJUDHQL-CFUBmdwnRMJxD-r0omUVngp5YEeS7J3tUaH\n",
      "标题：Python(计算机程序设计语言)_百度百科 超链接：http://www.baidu.com/link?url=XYa-on2MqC4ryPx6zpOXUYvhFCIOFMsEgbI9Z34NTwiUg20efwt09IrbIRyo8ccD\n",
      "标题：Python教程 - 廖雪峰的官方网站 超链接：http://www.baidu.com/link?url=4nc9p6bS7UbfC2J9SM-_mC9f0BsIgN1aNXaowUTN98pDfo_lbIQ6ARlGwm3vKN4FulYgyl2lzPLmrvn5tDRBMvkwRpupYX2z8ULpxDLnttmTHsgWD7PW98AE2KcyatqP\n",
      "标题：python_视频大全_高清在线观看 超链接：https://www.baidu.com/sf/vsearch?pd=video&tn=vsearch&lid=da3e14390005b11d&ie=utf-8&rsv_pq=da3e14390005b11d&wd=python&rsv_spt=5&rsv_t=278elgofN0TQ4Use3FvTW9sfszfGeWVQjnuk4gvLxLqgV%2FUg%2BcrX2z4Ht2E&rsv_bp=1&f=8\n",
      "标题：Python 中文学习大本营 超链接：http://www.baidu.com/link?url=hXPfuIsWxFTo0YS3dhJjH2WtdQeMwXqmRf5BnEHmDl6eKpwgsqU77Y84kTvlt1tf\n",
      "标题：python吧-百度贴吧--python学习交流基地。--这里有一群python爱好... 超链接：http://www.baidu.com/link?url=XlT4wOVEPGe7iX_5FN7cgx9aAvWXNq693kaKcFGeXWX-eDkkpluj3y9TeTZUtzZO\n",
      "标题：玩蛇网 - Python教程学习与Python资源分享平台 超链接：http://www.baidu.com/link?url=WN1EOH5z-bNUWLnxk-4ZzbWeki6j6l_9CDULIQStQMGIoFiuQDhfILfwgLxeCHYp\n",
      "标题：Learn Python - Free Interactive Python Tutorial 超链接：http://www.baidu.com/link?url=FmwlXbOr3KQmoYbTr0E0T0HKwChx8t8LsDNxxxl6SUqhAZY_i6flDwDvMpyge8Fm\n",
      "标题：python_飞桨PaddlePaddle-开源深度学习平台 超链接：http://www.baidu.com/baidu.php?url=K600000F3Z4zzZ2Y9mOjX9i3sdnkV_8OCrH25lJHaeEzaXxXaae4tSzUx_OiCz3R1-UgH3tqP8fkfaayMoPaYNDmQQ5o5Kfi96LOP5li0OEzj0ZIBT4Dg1Gb_ugeRu0od52Fv_BX_337j9jUyXxK4M9CuBrLY4mnPIWlM71rGFoQGijmQkbPI4soel0ApJmG2iuRjs-Ov884AF2hjf.DY_jA1IIwHWu88CGtMHp8iKi_nYQ7xuvI-p6.U1Yk0ZDqTZ-YpAq80ZKGm1Ys0ZfqTZ-YpAq80A-V5HczPsKM5yq-TZnk0ZNG5yF9pywd0ZKGujYz0APGujY1rHb0UgfqnH0kPdtznjmzg1DsnH-xn1msnfKopHYs0ZFY5HRL0ANGujYkPjR1g1cknHcYg1c4PHD3g1c3PHD4g1c4njb3g1c4PHmLg1c3rjn1g1c4nWck0AFG5HDdr7tznjf0UynqnH61njbknHc1PNtzPjRkrHD4PWnvg1Dsnj7xn0KkTA-b5H00TyPGujYs0ZFMIA7M5H00mycqn7ts0ANzu1Ys0ZKs5H00UMus5H08nj0snj0snj00Ugws5H00uAwETjYs0ZFJ5H00uANv5gKW0AuY5H00TA6qn0KET1Ys0AFL5H00UMfqn0K1XWY0mgPxpywW5gK1QyPV0A-bm1dRfsKYIgnqnH6zrHckrH6zrjczn1mdPjc1P1f0ThNkIjYkPHmYnHnsrjnkPHDd0ZPGujdbmHP-nHf1rH0snjNBnH7b0AP1UHYzrjuDrRc4PYm3PHDYPHck0A7W5HD0TA3qn0KkUgfqn0KkUgnqn0KlIjYs0AdWgvuzUvYqn7tsg1Kxn0Kbmy4dmhNxTAk9Uh-bT1Ysg1Kxn7ts0ZK9I7qhUA7M5H00uAPGujYs0ANYpyfqQHD0mgPsmvnqn0KdTA-8mvnqn0KkUymqn0KhmLNY5H00uMGC5H00uh7Y5H00XMK_Ignqn0K9uAu_myTqnfK_uhnqn0KEIjYs0AqzTZfqnanscznsc10WnansQW0snj0snansczns0APzm1YzPjnvPf&word=python&ck=0.0.0.0.0.0.0.0&shh=www.baidu.com&sht=baidu\n",
      "标题：上海 python培训丨点击咨询-立减2000 超链接：http://www.baidu.com/baidu.php?url=K600000F3Z4zzZ2Y9gZ16eQYWMPKtW43d3srQABB4sLNVpuNRAsS1c-u_GVgnrNbZn8vQxfJvTghvT1awJkdbFyg5bHNbzY0aH3VDzLOovjECK5qGmX2ghkAZjoYo67SfI1NJbwAlJnnhqpFmluD1z3fMdxgmNjc4DsfUgViM6yymQP5-C1fZUHy8vd99xjdtXxbVzCgR_qboHKb26.DY_NR2Ar5Od66HI6tVdTPKzcPQ3TSPYUljLwfur1u1e4XAWMEWdwJN9h9mootTMiC0.U1Yz0ZDqTZ-YpAq80ZKGm1Ys0ZfqTZ-YpAq80A-V5HczPsKM5yq-TZnk0ZNG5yF9pywd0ZKGujYz0APGujY1rHb0Ugfqn10sP-tknjDLg1csPWFxnH0krNt1PW0k0AVG5H00TMfqPHT0uy-b5HDYPHPxnWDknWwxnWbdnH9xnW6dnH-xnWbsrH9xnWbdPWIxnW63n1PxnWbznWD0mhbqnHR3g1csP0KVm1YknjFxnH6zrHfsrj64PdtzPHmzP1nvnHTdg1Dsnj7xn0KkTA-b5H00TyPGujYs0ZFMIA7M5H00mycqn7ts0ANzu1Ys0ZKs5H00UMus5H08nj0snj0snj00Ugws5H00uAwETjYk0ZFJ5H00uANv5gKW0AuY5H00TA6qn0KET1Ys0AFL5H00UMfqn0K1XWY0mgPxpywW5gK1QyPV0A-bm1dRfsKYIgnqrjndnjmsPWckrjcYPHRdnWDsPfKzug7Y5HDdPWfkn103n1DdnHR0Tv-b5yw9nvRkPjn4nj0sPycknyf0mLPV5Hc3Pbf4fWbLwW6dnHfdnWD0mynqnfKsUWYs0Z7VIjYs0Z7VT1Ys0ZGY5H00UyPxuMFEUHY1njDdg1Kxn7tsg100uA78IyF-gLK_my4GuZnqnWR3rHckr7tsg1Kxn7ts0ZK9I7qhUA7M5H00uAPGujYs0ANYpyfqQHD0mgPsmvnqn0KdTA-8mvnqn0KkUymqn0KhmLNY5H00uMGC5H00uh7Y5H00XMK_Ignqn0K9uAu_myTqnfK_uhnqn0KEm1Yk0AqY5H00ULFsIjYsc10Wc10Wnansc108nj0snj0sc10Wc100XZPYIHYknjf1n1mvP6KWThnqPWcsnWb&xst=mWYYnjTvf1bdwj7DPWbkP1R1fHRzrjnYwjIjPWnsn164fs715HDdP1cvnjc4nH61rjTsPjDdnHn1g1czPdtk0gTqTZ-YpAq80gDqTZ-YpAq80gRqnH0Yn1nvPWmKIjYkPHmYnHnsrjnk0ydk5H0an0cV0yPC5yuWgLKW0HD1rj04n1mLPWT&word=python&ck=0.0.0.0.0.0.0.0&shh=www.baidu.com&sht=baidu\n",
      "标题：上海python_官方无忧有限商 超链接：http://www.baidu.com/baidu.php?url=K600000F3Z4zzZ2Y9NJQj25k2l2fRAxwezfkYAjYsHCOqglWnOc1U8-RuLhcaEF0ACyOIc8GE-ps2k1OThJkonQjEToQyQvL9CZTC1xZuBY1i7QkBT3-XHXuCL7mKwaZ2oz2T-50jBvP2KQ53CBzocCylKEKjqV6SRE6_k8hkI7evIkNJpdZFHnKZuhUOSyUyFvKkyMr_bGvlKFGm6.DY_jvpYLmDfmq7aGYRZxZCCNrBE8Cph5uolrB7BEuuE_3vNqMgQsYXgV3QhPOH8vUQPOu8o3qTEjw4mpZYnur1xuu_LdeVv1o-3p5QGCRA2S8g9CtoPdKBAWJ3qTEjw4mph2ld2s1f_I-xZk3J0.U1Y10ZDqTZ-YpAq80ZKGm1Yk0ZfqzTSlCLK4IA9EU6KGUHYznWT0u1dEugK1nfKdpHdBmy-bIfKspyfqn6KWpyfqn1b40AdY5H6drH9xnH0kPdtznjmzg1DsnH-xn1msnfKopHYs0ZFY5HRL0ANGujYkPjR1g1cknHcYg1c4PHD3g1c3PHD4g1c4njb3g1c4PHmLg1c3rjn1g1c4nWck0AFG5HDdr7tznjf0Uynqn10snWDkrHbznNtkrjc4PHbdPjTLg1RknHTdnHmdP-tknj0kg100TgKGujYs0Z7Wpyfqn0KzuLw9u1Ys0A7B5HKxn0K-ThTqnfKsTjYs0A4vTjYsQW0snj0snj0s0AdYTjYs0AwbUL0qn0KzpWYs0Aw-IWdsmsKhIjYs0ZKC5H00ULnqn0KBI1Ys0A4Y5H00TLCq0A71gv-bm1dsTzdWUfKGuAnqNDn0IZN15HTdP1bkP10YP1bdPHf1nWfkn1T0ThNkIjYkPHmYnHnsrjnkPHDd0ZPGujdbmHP-nHf1rH0snjNBnH7b0AP1UHYzrjuDrRc4PYm3PHDYPHck0A7W5HD0TA3qn0KkUgfqn0KkUgnqn0KlIjYs0AdWgvuzUvYqn7tsg1Kxn7ts0Aw9UMNBuNqsUA78pyw15HKxn7tsg1Kxn0Ksmgwxuhk9u1Ys0AwWpyfqnH0Ln1TYnH61n6K-IA-b5HmY0A71TAPW5H00IgKGUhPW5H00Tydh5H00uhPdIjYs0AulpjYs0Au9IjYs0ZGsUZN15H00mywhUA7M5HD0UAuW5H00ULfqn0KETMKY5H0WnanWnansc10Wna3snj0snj0WnanWn0KWThnqPjTYPjn&word=python&ck=0.0.0.0.0.0.0.0&shh=www.baidu.com&sht=baidu\n",
      "标题：python_小朋友学编程_就选小码王-专业 超链接：http://www.baidu.com/baidu.php?url=K600000F3Z4zzZ2Y9g79DjFwFTnTs3nw17h6nQkfD9TwBzjbYwc0YUK8iYCp--izOSpIkNL816bMLmGTo2cHTM49ayVD0NvnCh8bLqzj7NyBT5VhwU81WVX0SerRF89A3xhPwwI3hN90iIAtkQRQnSFMNGk2NksyVGDhhO9dmUvPKzlexQqdsw8ktQh8xGzZtuZFtUuDsSwC1H9R5f.DR_NR2Ar5Od663ATx-Y5uIGut8KMPKfdTjrrarJaogfYfg_3_DZxKfYt_U_DY2yQvTyjOOmlEOSIpAM-YG8x6Y_g_3_ZgKfYtVKnv-Wj4qhZdvmIMVsSxH9qIvZdtTO4E9ol32AM-9I7fH7fmsSXOj__seOU9tOZjEen5Vvmx5u9qEdse5-Mkl27HC8VjHzs_lTUQqRHA5wfJIDGyAp7WIELdv20.U1YY0ZDqTZ-YpAq80ZKGm1Ys0ZfqTZ-YpAq80A-V5HczPsKM5yq-TZnk0ZNG5yF9pywd0ZKGujYz0APGujY1rHb0UgfqnH0kPdtznjmzg1DsnH-xn1msnfKopHYs0ZFY5HRL0ANGujYkPjR1g1cknHcYg1c4PHD3g1c3PHD4g1c4njb3g1c4PHmLg1c3rjn1g1c4nWck0AFG5HDdr7tznjf0UynqnH6zrH61P16YrNtzPHfdPjD4njR4g1Dsnj7xn0KkTA-b5H00TyPGujYs0ZFMIA7M5H00mycqn7ts0ANzu1Ys0ZKs5H00UMus5H08nj0snj0snj00Ugws5H00uAwETjYs0ZFJ5H00uANv5gKW0AuY5H00TA6qn0KET1Ys0AFL5H00UMfqn0K1XWY0mgPxpywW5gK1QyPV0A-bm1dRfsKYIgnqnH6vPHn3nW61nH61PjcvPWb1nsKzug7Y5HDdPWfkn103n1DdnHR0Tv-b5yw9nvRkPjn4nj0sPycknyf0mLPV5Hc3Pbf4fWbLwW6dnHfdnWD0mynqnfKsUWYs0Z7VIjYs0Z7VT1Ys0ZGY5H00UyPxuMFEUHYsg1Kxn7ts0Aw9UMNBuNqsUA78pyw15HKxn7tsg100TA7Ygvu_myTqn0Kbmv-b5H00ugwGujYVnfK9TLKWm1Ys0ZNspy4Wm1Ys0Z7VuWYs0AuWIgfqn0KhXh6qn0Khmgfqn0KlTAkdT1Ys0A7buhk9u1Yk0Akhm1Ys0AqW5HD0ULfqn0KETMKY5H0WnanWnansc10Wna3snj0snj0WnanWn0K3TLwd5HcvPjRdnWbY0APzm1YvnjR4P6&xst=mWYYnjTvf1bdwj7DPWbkP1R1fHRzrjnYwjIjPWnsn164fs715HDdP1cvnjc4nH61rjTsPjDdnHn1g1czPdt10gTqTZ-YpAq80gDqTZ-YpAq80gRqnWmYPHRzrHfKIjYkPHmYnHnsrjnk0ydk5H0an0cV0yPC5yuWgLKW0HTzP1bvP1fsn6&word=python&ck=0.0.0.0.0.0.0.0&shh=www.baidu.com&sht=baidu\n"
     ]
    }
   ],
   "source": [
    "'''\n",
    "使用Selenium模拟浏览器\n",
    "抓取百度查询结果\n",
    "'''\n",
    "\n",
    "# 导入selenium模块中的web引擎\n",
    "from selenium import webdriver\n",
    "\n",
    "\n",
    "# 建立浏览器对象 ，通过Phantomjs\n",
    "browser = webdriver.PhantomJS()\n",
    "\n",
    "# 设置访问的url\n",
    "url = 'https://www.baidu.com'\n",
    "\n",
    "# 访问url\n",
    "browser.get(url)\n",
    "\n",
    "# 等待一定时间，让js脚本加载完毕\n",
    "browser.implicitly_wait(3)\n",
    "\n",
    "# 找到搜索框\n",
    "text = browser.find_element_by_id('kw')\n",
    "\n",
    "# 清空搜索框的文字\n",
    "text.clear()\n",
    "\n",
    "# 填写搜索框的文字\n",
    "text.send_keys('python')\n",
    "\n",
    "# 找到submit按钮\n",
    "button = browser.find_element_by_id('su')\n",
    "\n",
    "# 点击按钮 提交搜索请求\n",
    "button.submit()\n",
    "\n",
    "# 查看当前浏览器标题\n",
    "print(browser.title)\n",
    "\n",
    "# 以截图的方式查看浏览器的页面\n",
    "browser.save_screenshot('text.png')\n",
    "\n",
    "# 找到结果 结果保存为列表变量\n",
    "results = browser.find_elements_by_class_name('t')\n",
    "\n",
    "# 循环遍历找出每个结果的标题和url\n",
    "for result in results:\n",
    "    print('标题：{} 超链接：{}'.format(result.text,\n",
    "                                result.find_element_by_tag_name('a').get_attribute('href')))"
   ]
  },
  {
   "cell_type": "code",
   "execution_count": null,
   "metadata": {},
   "outputs": [],
   "source": []
  },
  {
   "cell_type": "code",
   "execution_count": 2,
   "metadata": {},
   "outputs": [
    {
     "name": "stderr",
     "output_type": "stream",
     "text": [
      "/Applications/anaconda3/lib/python3.6/site-packages/selenium/webdriver/phantomjs/webdriver.py:49: UserWarning: Selenium support for PhantomJS has been deprecated, please use headless versions of Chrome or Firefox instead\n",
      "  warnings.warn('Selenium support for PhantomJS has been deprecated, please use headless '\n"
     ]
    },
    {
     "name": "stdout",
     "output_type": "stream",
     "text": [
      "<html><head></head><body><h1>Nginx forbidden.</h1> <br>request info: 114.217.176.237\n",
      "</body></html>\n",
      "done\n"
     ]
    }
   ],
   "source": [
    "'''\n",
    "使用Selenium模拟浏览器\n",
    "抓取同花顺问财查询结果\n",
    "'''\n",
    "\n",
    "# 导入selenium模块中的web引擎\n",
    "from selenium import webdriver\n",
    "\n",
    "\n",
    "# 建立浏览器对象 ，通过Phantomjs\n",
    "browser = webdriver.PhantomJS()\n",
    "# options = webdriver.ChromeOptions()\n",
    "# options.add_argument('headless')\n",
    "# driver=webdriver.Chrome(chrome_options=options)\n",
    "\n",
    "# 设置访问的url\n",
    "# url = 'http://www.iwencai.com/stockpick?tid=stockpick'\n",
    "url = 'http://www.iwencai.com/stockpick/search?w=%E9%87%91%E5%8F%89%E8%82%A1%E7%A5%A8'\n",
    "\n",
    "# driver.get(url)\n",
    "\n",
    "# # 访问url\n",
    "browser.get(url)\n",
    "\n",
    "# # 等待一定时间，让js脚本加载完毕\n",
    "browser.implicitly_wait(3)\n",
    "\n",
    "print(browser.page_source)\n",
    "\n",
    "# # 找到搜索框\n",
    "# text = browser.find_element_by_id('auto')\n",
    "\n",
    "# # 清空搜索框的文字\n",
    "# text.clear()\n",
    "\n",
    "# # 填写搜索框的文字\n",
    "# text.send_keys('最近一周新股')\n",
    "\n",
    "# # # 找到submit按钮\n",
    "# # button = browser.find_element_by_class_name('search_btn')\n",
    "\n",
    "# # # 点击按钮 提交搜索请求\n",
    "# # button.submit()\n",
    "\n",
    "# # 查看当前浏览器标题\n",
    "# print(browser.title)\n",
    "\n",
    "# # # # 以截图的方式查看浏览器的页面\n",
    "# # # browser.save_screenshot('text.png')\n",
    "\n",
    "# # # 找到结果 结果保存为列表变量\n",
    "# # results = browser.find_elements_by_class_name('t')\n",
    "\n",
    "# # # 循环遍历找出每个结果的标题和url\n",
    "# # for result in results:\n",
    "# #     print('标题：{} 超链接：{}'.format(result.text,\n",
    "# #                                 result.find_element_by_tag_name('a').get_attribute('href')))\n",
    "\n",
    "print('done')"
   ]
  },
  {
   "cell_type": "code",
   "execution_count": 10,
   "metadata": {},
   "outputs": [
    {
     "ename": "WebDriverException",
     "evalue": "Message: 'geckodriver' executable needs to be in PATH. \n",
     "output_type": "error",
     "traceback": [
      "\u001b[0;31m---------------------------------------------------------------------------\u001b[0m",
      "\u001b[0;31mFileNotFoundError\u001b[0m                         Traceback (most recent call last)",
      "\u001b[0;32m/Applications/anaconda3/lib/python3.6/site-packages/selenium/webdriver/common/service.py\u001b[0m in \u001b[0;36mstart\u001b[0;34m(self)\u001b[0m\n\u001b[1;32m     75\u001b[0m                                             \u001b[0mstderr\u001b[0m\u001b[0;34m=\u001b[0m\u001b[0mself\u001b[0m\u001b[0;34m.\u001b[0m\u001b[0mlog_file\u001b[0m\u001b[0;34m,\u001b[0m\u001b[0;34m\u001b[0m\u001b[0m\n\u001b[0;32m---> 76\u001b[0;31m                                             stdin=PIPE)\n\u001b[0m\u001b[1;32m     77\u001b[0m         \u001b[0;32mexcept\u001b[0m \u001b[0mTypeError\u001b[0m\u001b[0;34m:\u001b[0m\u001b[0;34m\u001b[0m\u001b[0m\n",
      "\u001b[0;32m/Applications/anaconda3/lib/python3.6/subprocess.py\u001b[0m in \u001b[0;36m__init__\u001b[0;34m(self, args, bufsize, executable, stdin, stdout, stderr, preexec_fn, close_fds, shell, cwd, env, universal_newlines, startupinfo, creationflags, restore_signals, start_new_session, pass_fds, encoding, errors)\u001b[0m\n\u001b[1;32m    708\u001b[0m                                 \u001b[0merrread\u001b[0m\u001b[0;34m,\u001b[0m \u001b[0merrwrite\u001b[0m\u001b[0;34m,\u001b[0m\u001b[0;34m\u001b[0m\u001b[0m\n\u001b[0;32m--> 709\u001b[0;31m                                 restore_signals, start_new_session)\n\u001b[0m\u001b[1;32m    710\u001b[0m         \u001b[0;32mexcept\u001b[0m\u001b[0;34m:\u001b[0m\u001b[0;34m\u001b[0m\u001b[0m\n",
      "\u001b[0;32m/Applications/anaconda3/lib/python3.6/subprocess.py\u001b[0m in \u001b[0;36m_execute_child\u001b[0;34m(self, args, executable, preexec_fn, close_fds, pass_fds, cwd, env, startupinfo, creationflags, shell, p2cread, p2cwrite, c2pread, c2pwrite, errread, errwrite, restore_signals, start_new_session)\u001b[0m\n\u001b[1;32m   1343\u001b[0m                             \u001b[0merr_msg\u001b[0m \u001b[0;34m+=\u001b[0m \u001b[0;34m': '\u001b[0m \u001b[0;34m+\u001b[0m \u001b[0mrepr\u001b[0m\u001b[0;34m(\u001b[0m\u001b[0merr_filename\u001b[0m\u001b[0;34m)\u001b[0m\u001b[0;34m\u001b[0m\u001b[0m\n\u001b[0;32m-> 1344\u001b[0;31m                     \u001b[0;32mraise\u001b[0m \u001b[0mchild_exception_type\u001b[0m\u001b[0;34m(\u001b[0m\u001b[0merrno_num\u001b[0m\u001b[0;34m,\u001b[0m \u001b[0merr_msg\u001b[0m\u001b[0;34m,\u001b[0m \u001b[0merr_filename\u001b[0m\u001b[0;34m)\u001b[0m\u001b[0;34m\u001b[0m\u001b[0m\n\u001b[0m\u001b[1;32m   1345\u001b[0m                 \u001b[0;32mraise\u001b[0m \u001b[0mchild_exception_type\u001b[0m\u001b[0;34m(\u001b[0m\u001b[0merr_msg\u001b[0m\u001b[0;34m)\u001b[0m\u001b[0;34m\u001b[0m\u001b[0m\n",
      "\u001b[0;31mFileNotFoundError\u001b[0m: [Errno 2] No such file or directory: 'geckodriver': 'geckodriver'",
      "\nDuring handling of the above exception, another exception occurred:\n",
      "\u001b[0;31mWebDriverException\u001b[0m                        Traceback (most recent call last)",
      "\u001b[0;32m<ipython-input-10-1b5865594348>\u001b[0m in \u001b[0;36m<module>\u001b[0;34m()\u001b[0m\n\u001b[1;32m      1\u001b[0m \u001b[0;32mfrom\u001b[0m \u001b[0mselenium\u001b[0m \u001b[0;32mimport\u001b[0m \u001b[0mwebdriver\u001b[0m\u001b[0;34m\u001b[0m\u001b[0m\n\u001b[0;32m----> 2\u001b[0;31m \u001b[0mbrowser\u001b[0m \u001b[0;34m=\u001b[0m \u001b[0mwebdriver\u001b[0m\u001b[0;34m.\u001b[0m\u001b[0mFirefox\u001b[0m\u001b[0;34m(\u001b[0m\u001b[0;34m)\u001b[0m\u001b[0;34m\u001b[0m\u001b[0m\n\u001b[0m\u001b[1;32m      3\u001b[0m \u001b[0mbrowser\u001b[0m\u001b[0;34m.\u001b[0m\u001b[0mget\u001b[0m\u001b[0;34m(\u001b[0m\u001b[0;34m\"http://www.baidu.com\"\u001b[0m\u001b[0;34m)\u001b[0m\u001b[0;34m\u001b[0m\u001b[0m\n\u001b[1;32m      4\u001b[0m \u001b[0mprint\u001b[0m\u001b[0;34m(\u001b[0m\u001b[0mbrowser\u001b[0m\u001b[0;34m.\u001b[0m\u001b[0mpage_source\u001b[0m\u001b[0;34m)\u001b[0m\u001b[0;34m\u001b[0m\u001b[0m\n\u001b[1;32m      5\u001b[0m \u001b[0mbrowser\u001b[0m\u001b[0;34m.\u001b[0m\u001b[0mclose\u001b[0m\u001b[0;34m(\u001b[0m\u001b[0;34m)\u001b[0m\u001b[0;34m\u001b[0m\u001b[0m\n",
      "\u001b[0;32m/Applications/anaconda3/lib/python3.6/site-packages/selenium/webdriver/firefox/webdriver.py\u001b[0m in \u001b[0;36m__init__\u001b[0;34m(self, firefox_profile, firefox_binary, timeout, capabilities, proxy, executable_path, options, service_log_path, firefox_options, service_args, desired_capabilities, log_path, keep_alive)\u001b[0m\n\u001b[1;32m    162\u001b[0m                 \u001b[0mservice_args\u001b[0m\u001b[0;34m=\u001b[0m\u001b[0mservice_args\u001b[0m\u001b[0;34m,\u001b[0m\u001b[0;34m\u001b[0m\u001b[0m\n\u001b[1;32m    163\u001b[0m                 log_path=service_log_path)\n\u001b[0;32m--> 164\u001b[0;31m             \u001b[0mself\u001b[0m\u001b[0;34m.\u001b[0m\u001b[0mservice\u001b[0m\u001b[0;34m.\u001b[0m\u001b[0mstart\u001b[0m\u001b[0;34m(\u001b[0m\u001b[0;34m)\u001b[0m\u001b[0;34m\u001b[0m\u001b[0m\n\u001b[0m\u001b[1;32m    165\u001b[0m \u001b[0;34m\u001b[0m\u001b[0m\n\u001b[1;32m    166\u001b[0m             \u001b[0mcapabilities\u001b[0m\u001b[0;34m.\u001b[0m\u001b[0mupdate\u001b[0m\u001b[0;34m(\u001b[0m\u001b[0moptions\u001b[0m\u001b[0;34m.\u001b[0m\u001b[0mto_capabilities\u001b[0m\u001b[0;34m(\u001b[0m\u001b[0;34m)\u001b[0m\u001b[0;34m)\u001b[0m\u001b[0;34m\u001b[0m\u001b[0m\n",
      "\u001b[0;32m/Applications/anaconda3/lib/python3.6/site-packages/selenium/webdriver/common/service.py\u001b[0m in \u001b[0;36mstart\u001b[0;34m(self)\u001b[0m\n\u001b[1;32m     81\u001b[0m                 raise WebDriverException(\n\u001b[1;32m     82\u001b[0m                     \"'%s' executable needs to be in PATH. %s\" % (\n\u001b[0;32m---> 83\u001b[0;31m                         os.path.basename(self.path), self.start_error_message)\n\u001b[0m\u001b[1;32m     84\u001b[0m                 )\n\u001b[1;32m     85\u001b[0m             \u001b[0;32melif\u001b[0m \u001b[0merr\u001b[0m\u001b[0;34m.\u001b[0m\u001b[0merrno\u001b[0m \u001b[0;34m==\u001b[0m \u001b[0merrno\u001b[0m\u001b[0;34m.\u001b[0m\u001b[0mEACCES\u001b[0m\u001b[0;34m:\u001b[0m\u001b[0;34m\u001b[0m\u001b[0m\n",
      "\u001b[0;31mWebDriverException\u001b[0m: Message: 'geckodriver' executable needs to be in PATH. \n"
     ]
    }
   ],
   "source": [
    "from selenium import webdriver\n",
    "browser = webdriver.Firefox()\n",
    "browser.get(\"http://www.baidu.com\")\n",
    "print(browser.page_source)\n",
    "browser.close() "
   ]
  }
 ],
 "metadata": {
  "kernelspec": {
   "display_name": "Python 3",
   "language": "python",
   "name": "python3"
  },
  "language_info": {
   "codemirror_mode": {
    "name": "ipython",
    "version": 3
   },
   "file_extension": ".py",
   "mimetype": "text/x-python",
   "name": "python",
   "nbconvert_exporter": "python",
   "pygments_lexer": "ipython3",
   "version": "3.6.5"
  }
 },
 "nbformat": 4,
 "nbformat_minor": 2
}
