{
 "cells": [
  {
   "cell_type": "code",
   "execution_count": 12,
   "metadata": {},
   "outputs": [
    {
     "name": "stdout",
     "output_type": "stream",
     "text": [
      "['002057', '300362', '002119', '300748', '000713', '002481', '600095', '002077', '300090', '600371', '601038', '603738', '002902', '300023', '300029', '300127', '600354', '600734', '603701', '000586', '000795', '002199', '300152', '300184', '300313', '300405', '300480', '300561', '300573', '300615', '600127', '002041', '002164', '002388', '002645', '002725', '300018', '300191', '300210', '300224', '300354', '300542', '300708', '600359', '600980', '601330', '603169', '603189', '603787', '002835', '002952', '300119', '300330', '300371', '300399', '300417', '300526', '300598', '300663', '603078', '603258', '000612', '000677', '000862', '002436', '002442', '002447', '002842', '002905', '002915', '002947', '300022', '300123', '300167', '300176', '300292', '300414', '300429', '300460', '300488', '300536', '300576', '300631', '300671', '600078', '600281', '600410', '600463', '600844', '603739', '603906', '603977', '000505', '000536', '000589', '000655', '000815', '000912', '002201', '002708', '002828', '002848', '002870', '002945', '300042', '300105', '300163', '300238', '300260', '300333', '300366', '300427', '300516', '300527', '300538', '300543', '300554', '300555', '300560', '300626', '300648', '300655', '300726', '600213', '600300', '600313', '600366', '600469', '600476', '600525', '600530', '600860', '603106', '603336', '603650', '603686', '603936']\n"
     ]
    }
   ],
   "source": [
    "## 从导出的表格中获取同花顺最近半年涨停超过N次的非ST股票数据\n",
    "## 条件：非st股票 半年内涨停超过6次\n",
    "import xlrd\n",
    "data = xlrd.open_workbook('/data/stock_new/threemonth4times.xlsx')\n",
    "table = data.sheets()[0]\n",
    "code_list = table.col_values(0)[1::]\n",
    "codes = [code.split('.')[0] for code in code_list]\n",
    "print(codes)"
   ]
  },
  {
   "cell_type": "code",
   "execution_count": 1,
   "metadata": {
    "pycharm": {
     "is_executing": false
    }
   },
   "outputs": [
    {
     "name": "stdout",
     "output_type": "stream",
     "text": [
      "done\n"
     ]
    }
   ],
   "source": [
    "import requests\n",
    "import json \n",
    "from pandas import DataFrame\n",
    "import pandas as pd\n",
    "import numpy as np\n",
    "import time\n",
    "import threading\n",
    "import sys \n",
    "sys.path.append('/Users/flee/myspace/utils') \n",
    "import fmail\n",
    "\n",
    "## 全局变量\n",
    "lock = threading.Lock()\n",
    "result = []\n",
    "last_result = []\n",
    "\n",
    "## 5分钟价格：[open, close, high, low], 东财5分钟成交量在每日9.35的值未计算开盘竞价的价格变动与成交量\n",
    "DAY_NUM = 5\n",
    "DAILY_DIVISION_COUNT = 48\n",
    "LAST_INDEX = 1439\n",
    "LOW_PRICE_COLUMN_INDEX = 2\n",
    "VOL_COLUMN_INDEX = 3\n",
    "\n",
    "## 判断传入的时间是否早于当前时刻mincount分钟，若过早超出门限则为无效数据无需处理\n",
    "def isEffectiveTime(lastDateStr, mincount):\n",
    "    lastTime = time.strptime(lastDateStr, \"%Y-%m-%d %H:%M\")\n",
    "    lastTimeStamp = int(time.mktime(lastTime))\n",
    "    currentTimeStamp = int(time.time())\n",
    "    accept_diff = mincount * 60\n",
    "    return currentTimeStamp - lastTimeStamp < accept_diff\n",
    "\n",
    "\n",
    "## 获取东财请求所需股票代码\n",
    "def getSuffixCode(code):\n",
    "    if code[0] == '6':\n",
    "        return code + '1'\n",
    "    else: \n",
    "        return code + '2'\n",
    "\n",
    "\n",
    "## 获取列表平均值\n",
    "def getMean(vols):\n",
    "    return np.mean(np.array(vols))\n",
    "\n",
    "\n",
    "## 获取列表最小值\n",
    "def getMin(closes):\n",
    "    return np.min(np.array(closes))\n",
    "\n",
    "\n",
    "## 获取中位数\n",
    "def getMedian(vols):\n",
    "    return np.median(np.array(vols))\n",
    "\n",
    "\n",
    "## 判断是否 价格新低+成交倍量\n",
    "def isLowPriceDoubleVol(low, vol, min_close, mean_vol):\n",
    "    if low < min_close and vol > 2.5 * mean_vol:\n",
    "        return True\n",
    "    else:\n",
    "        return False\n",
    "    \n",
    "## 判断某只股票最低价是否触及近5天5分钟收盘价新低，且成交量为max(30个交易日均值, 30个交易日中位数, 5个交易日均值)的3倍\n",
    "## 返回时判断最近两个5分钟的主要防御东财5分钟k线数据更新不及时\n",
    "def isTargetStock(code_id):\n",
    "    easy_url = 'http://pdfm.eastmoney.com/EM_UBG_PDTI_Fast/api/js?rtntype=5&token=4f1862fc3b5e77c150a2b985b12db0fd&type=m5k&authorityType=fa&id='\n",
    "    final_url = easy_url + getSuffixCode(code_id)\n",
    "    response = requests.get(final_url)\n",
    "    data_str = response.text.split('(')[-1].split(')')[0]\n",
    "    data = json.loads(data_str)['data']\n",
    "    if not isEffectiveTime(data[-2].split(',')[0], 11):\n",
    "        return False    \n",
    "    time_list = []\n",
    "    close_list = []\n",
    "    low_list = []\n",
    "    vol_list = []\n",
    "    for stock_tick in data:\n",
    "        tick_array = stock_tick.split(',')\n",
    "        time_list.append(tick_array[0])\n",
    "        close_list.append(float(tick_array[2]))\n",
    "        low_list.append(float(tick_array[4]))\n",
    "        vol_list.append(int(tick_array[6])/1000)\n",
    "    mean_vol = max(getMean(vol_list), getMedian(vol_list), getMean(vol_list[-DAY_NUM*DAILY_DIVISION_COUNT:]))\n",
    "    closes = close_list[-DAY_NUM*DAILY_DIVISION_COUNT:]\n",
    "    min_close = getMin(closes)\n",
    "    return isLowPriceDoubleVol(low_list[-1], vol_list[-1], min_close, mean_vol) or isLowPriceDoubleVol(low_list[-2], vol_list[-2], min_close, mean_vol)  \n",
    "\n",
    "\n",
    "## 遍历codes中的目标股票是否满足要求\n",
    "## 入参codes中存储的是股票代码列表\n",
    "def fetchResult(codes):\n",
    "    result_codes = []\n",
    "    failed_codes = []\n",
    "    start = time.time()\n",
    "    for code in codes:\n",
    "        try:\n",
    "            if isTargetStock(code):\n",
    "                result_codes.append(code)\n",
    "        except BaseException as e:\n",
    "            failed_codes.append(code)\n",
    "            pass\n",
    "        continue\n",
    "    elapsed = time.time() - start\n",
    "    print('计算' + str(len(codes)) + '个股票, 共花费' + str(elapsed) + '秒')\n",
    "    if failed_codes:\n",
    "        print('失败股票codes=')\n",
    "        print(failed_codes)\n",
    "    return result_codes\n",
    "\n",
    "\n",
    "## 多线程执行类\n",
    "class MultiThreadingCal(threading.Thread):\n",
    "    def __init__(self, codes):\n",
    "        super(MultiThreadingCal, self).__init__()\n",
    "        self.codes = codes\n",
    "    def run(self):\n",
    "        global result\n",
    "        tmpResult = fetchResult(self.codes)\n",
    "        with lock:\n",
    "            result = result + tmpResult \n",
    "\n",
    "            \n",
    "## 将输入的listTemp均分成n组\n",
    "def listSplit(listTemp, n):\n",
    "    for i in range(0, n):\n",
    "        yield listTemp[i::n]\n",
    "\n",
    "        \n",
    "## 主函数\n",
    "def cal_main():\n",
    "    start = time.time()\n",
    "    localtime = time.localtime(start)\n",
    "    strTime = time.strftime(\"%Y-%m-%d %H:%M:%S\", localtime)\n",
    "    print('开始时间为 ' + strTime)\n",
    "    threads = []\n",
    "    # 创建新子线程\n",
    "    codes_array = listSplit(codes, 5)\n",
    "    for single_codes in codes_array:\n",
    "        subThread = MultiThreadingCal(single_codes)\n",
    "        subThread.start()\n",
    "        threads.append(subThread)\n",
    "    # 等待所有线程完成\n",
    "    for t in threads:\n",
    "        t.join()\n",
    "        \n",
    "    global result\n",
    "    global last_result\n",
    "    with lock:\n",
    "        last_result = list(set(result).difference(set(last_result)))\n",
    "        result = []\n",
    "    \n",
    "    ##发邮件 用守护线程包裹，作为邮件发送超时的一种防御(但守护线程会一直结束不了)\n",
    "    if last_result:\n",
    "        print(last_result)\n",
    "        topic = '【股票】低吸买点'\n",
    "        text = '以下股票出现低吸买点\\n' + str(last_result)\n",
    "        t = threading.Thread(target=fmail.mail, args = (topic, text))\n",
    "        t.setDaemon(True)\n",
    "        t.start()\n",
    "        t.join(2)\n",
    "    end = time.time()\n",
    "    elapsed = end - start\n",
    "    localtime = time.localtime(end)\n",
    "    strTime = time.strftime(\"%Y-%m-%d %H:%M:%S\", localtime)\n",
    "    print('结束时间为  ' + strTime)\n",
    "    print('计算' + str(len(codes)) + '个股票, 共花费' + str(elapsed) + '秒')\n",
    "    print('Exiting cal_main Thread')\n",
    "print('done')"
   ]
  },
  {
   "cell_type": "code",
   "execution_count": 11,
   "metadata": {},
   "outputs": [
    {
     "name": "stdout",
     "output_type": "stream",
     "text": [
      "[3, 4]\n"
     ]
    }
   ],
   "source": [
    "a  = [1,2,3,4]\n",
    "print(a[-2:])"
   ]
  },
  {
   "cell_type": "code",
   "execution_count": null,
   "metadata": {},
   "outputs": [],
   "source": [
    "import datetime\n",
    "import time\n",
    "from apscheduler.schedulers.background import BackgroundScheduler\n",
    "\n",
    "scheduler = BackgroundScheduler()  \n",
    "# scheduler.add_job(cal_main, 'cron', minute = '*/5')\n",
    "scheduler.add_job(cal_main, 'cron', day_of_week = '0-4', hour = '10-11, 13-14', minute = '1/5')\n",
    "scheduler.add_job(cal_main, 'cron', day_of_week = '0-4', hour = '9', minute = '36/5')\n",
    "scheduler.start()\n",
    "print('start')"
   ]
  }
 ],
 "metadata": {
  "kernelspec": {
   "display_name": "Python 3",
   "language": "python",
   "name": "python3"
  },
  "language_info": {
   "codemirror_mode": {
    "name": "ipython",
    "version": 3
   },
   "file_extension": ".py",
   "mimetype": "text/x-python",
   "name": "python",
   "nbconvert_exporter": "python",
   "pygments_lexer": "ipython3",
   "version": "3.6.5"
  },
  "pycharm": {
   "stem_cell": {
    "cell_type": "raw",
    "metadata": {
     "collapsed": false
    },
    "source": []
   }
  }
 },
 "nbformat": 4,
 "nbformat_minor": 2
}
