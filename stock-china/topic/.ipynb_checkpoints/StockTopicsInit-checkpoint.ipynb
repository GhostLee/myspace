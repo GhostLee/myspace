{
 "cells": [
  {
   "cell_type": "code",
   "execution_count": 1,
   "metadata": {},
   "outputs": [
    {
     "name": "stdout",
     "output_type": "stream",
     "text": [
      "0个已处理\n",
      "200个已处理\n",
      "400个已处理\n",
      "600个已处理\n",
      "800个已处理\n",
      "1000个已处理\n",
      "1200个已处理\n",
      "1400个已处理\n",
      "1600个已处理\n",
      "1800个已处理\n",
      "2000个已处理\n",
      "2200个已处理\n",
      "2400个已处理\n",
      "2600个已处理\n",
      "2800个已处理\n",
      "3000个已处理\n",
      "3200个已处理\n",
      "3400个已处理\n",
      "3600个已处理\n",
      "done\n",
      "['300253']\n"
     ]
    }
   ],
   "source": [
    "import requests\n",
    "import json\n",
    "import tushare as ts\n",
    "from pandas import DataFrame\n",
    "\n",
    "## 获取开盘啦题材\n",
    "def getTopicNames(str):\n",
    "    array = json.loads(str)\n",
    "    if array == None:\n",
    "        return []\n",
    "    names = []\n",
    "    for value in array: \n",
    "        name = value[0]\n",
    "        names.append(name)\n",
    "    return names\n",
    "\n",
    "def getCodeWithSuffix(code):\n",
    "    if code[0] == '6':\n",
    "        return code + '.SH'\n",
    "    else: \n",
    "        return code + '.SZ'\n",
    "\n",
    "def getTopicsByCode(code):\n",
    "    url = 'https://pchq.kaipanla.com/w1/api/index.php'\n",
    "    form_data = 'c=PCArrangeData&a=GetHQPlate&Day=20190618&SelType=1,2,3,8,9,5,6,7&UserID=570132&Token=f6b329f1fa4b35c174af28f417372a05'\n",
    "    forms = {}\n",
    "    form_list = form_data.split('&')\n",
    "    for form in form_list:\n",
    "        [key, value] = form.split('=')\n",
    "        forms[key] = value;\n",
    "    forms['StockID'] = code\n",
    "    response = requests.post(url, data=forms)\n",
    "    topics_str = response.text.split('\"stockplate\":', 1)[-1].split(',\"careplate\":')\n",
    "    selected_topics = topics_str[0]\n",
    "    main_topics = topics_str[1].split(',\"range\"')[0]\n",
    "    selected = getTopicNames(selected_topics)\n",
    "    selected = [topic.strip() for topic in selected] ##去除空白符\n",
    "    main = getTopicNames(main_topics)\n",
    "    main = [topic.strip() for topic in main]\n",
    "    all_topic = list(set(selected).union(set(main)))\n",
    "    return [topic.strip() for topic in all_topic]\n",
    "\n",
    "def getAllCodes():\n",
    "    token = 'c13d897473cb56b68a5d9e5476a934922478db2b3ecbe5c7efb03b65'    \n",
    "    pro = ts.pro_api(token)\n",
    "    data = pro.stock_basic(exchange='', list_status='L', fields='ts_code,symbol,name')\n",
    "    return data\n",
    "# ### 主函数 ###\n",
    "data = getAllCodes()\n",
    "result = DataFrame([], columns=['code', 'name', 'topics'])\n",
    "failedCodes = []\n",
    "# for index, row in data.iterrows():\n",
    "#     try:\n",
    "#         if index % 200 == 0:\n",
    "#             print(str(index) + '个已处理')\n",
    "#         topics = getTopicsByCode(row.symbol)\n",
    "#         result = result.append({'code':row.ts_code, 'name':row.iloc[2], 'topics':topics}, ignore_index = True) \n",
    "#     except BaseException as e:\n",
    "#         failedCodes.append(row.symbol)\n",
    "#         pass\n",
    "#     continue\n",
    "print('done')\n",
    "print(failedCodes)"
   ]
  },
  {
   "cell_type": "code",
   "execution_count": 2,
   "metadata": {},
   "outputs": [
    {
     "name": "stdout",
     "output_type": "stream",
     "text": [
      "done\n",
      "[]\n"
     ]
    }
   ],
   "source": [
    "## 失败补偿\n",
    "error = failedCodes\n",
    "protect = DataFrame([], columns=['code', 'name', 'topics'])\n",
    "failedCodes_again = []\n",
    "for code in error:\n",
    "    try:\n",
    "        topics = getTopicsByCode(code)\n",
    "        name = data[data.symbol == code].name.values[0]\n",
    "        protect = protect.append({'code':getCodeWithSuffix(code), 'name':name, 'topics':topics}, ignore_index = True) \n",
    "    except BaseException as e:\n",
    "        failedCodes_again.append(code)\n",
    "        pass\n",
    "    continue\n",
    "print('done')\n",
    "print(failedCodes_again)"
   ]
  },
  {
   "cell_type": "code",
   "execution_count": 5,
   "metadata": {},
   "outputs": [
    {
     "name": "stdout",
     "output_type": "stream",
     "text": [
      "1\n",
      "3619\n",
      "success\n"
     ]
    }
   ],
   "source": [
    "print(len(protect))\n",
    "print(len(result))\n",
    "result.to_csv('/data/stock_new/topics' + '.csv', mode ='a', header=False)\n",
    "protect.to_csv('/data/stock_new/topics' + '.csv', mode ='a', header=False)\n",
    "print('success')"
   ]
  }
 ],
 "metadata": {
  "kernelspec": {
   "display_name": "Python 3",
   "language": "python",
   "name": "python3"
  },
  "language_info": {
   "codemirror_mode": {
    "name": "ipython",
    "version": 3
   },
   "file_extension": ".py",
   "mimetype": "text/x-python",
   "name": "python",
   "nbconvert_exporter": "python",
   "pygments_lexer": "ipython3",
   "version": "3.6.5"
  }
 },
 "nbformat": 4,
 "nbformat_minor": 2
}
