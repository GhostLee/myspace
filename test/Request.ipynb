{
 "cells": [
  {
   "cell_type": "code",
   "execution_count": 5,
   "metadata": {},
   "outputs": [
    {
     "name": "stdout",
     "output_type": "stream",
     "text": [
      "{\"code\":200,\"message\":null,\"accountId\":2299649,\"data\":{\"dpShopVO\":[{\"categoryId\":0,\"regionId\":0,\"districtName\":null,\"mainRegionName\":\"黄村\",\"mainRegionId\":5961,\"mainCategoryName\":\"装修设计\",\"mainCategoryId\":25475,\"shopId\":57790010,\"shopType\":90,\"shopName\":\"中天创实装饰\",\"branchName\":\"\",\"address\":\"北京市大兴区绿地兴贸中心1号楼（全季酒店）东侧二层\",\"crossRoad\":\"\",\"phoneNo\":\"13621117687\",\"cityId\":2}],\"mtShopVO\":[{\"id\":94109613,\"pointName\":\"中天创实装饰\",\"openInfo\":\"周一至周日\\n10:00-22:00\",\"longitude\":116334800,\"latitude\":39765860,\"cityId\":1,\"locationId\":110115,\"locationName\":\"大兴区\",\"cityLocationId\":110100,\"cityLocationName\":\"北京市\",\"bareaId\":13067,\"bareaName\":\"黄村\",\"subwayIds\":\"188,187,\",\"address\":\"北京市大兴区绿地兴贸中心1号楼（全季酒店）东侧二层\",\"phone\":\"13621117687\",\"typeId\":644,\"typeName\":\"其他装修设计\"}]}}\n"
     ]
    }
   ],
   "source": [
    "import requests\n",
    "\n",
    "url = 'http://house.admin.sankuai.com/ajax/home/tool/shop?shopId=57790010&shopStatus=1'\n",
    "c = '_lxsdk_cuid=1643efccdf0c8-03061584634fd3-16396952-13c680-1643efccdf0c8; _ga=GA1.2.1896181981.1530172003; isUuidUnion=true; _hc.v=d0e41c4d-2735-9287-7930-dd8e53da69b5.1533521654; __utma=196871861.807079783.1533713811.1533713811.1533889361.2; ci=1; cityname=%E5%8C%97%E4%BA%AC; iuuid=12768E441D33EE4D26C899B5A6E93F2398AFAA229BB401A989EBE0A219D33B6A; _lxsdk=12768E441D33EE4D26C899B5A6E93F2398AFAA229BB401A989EBE0A219D33B6A; UM_distinctid=168842c690e219-077d5ca308f844-10346654-1fa400-168842c690f276; skmtutc=gR3dhqm7PebzTholC9/ngjv2d+NLg51gKLuxdNhlNSW1F1SB4otofkQXsVjvjj8L-8LbkdljmxTESMJ8/hDbUXrENSB0=; 6b096c2ff9_ssoid=eAHjYBRoXNfDqPBp9rQ963SNuMySDCzNko3S0iytFMxSzQ1TE5NSE42MEk3SEs2TjAxTtIwtDEyMzM2NjMwsnSwVji85_XyjrgajEUHFFiBrHJg89k15vmytbpSCSaqxgaGxaapZilaaSUpSsqWxQUqKQbJBcpqpWaKxhSkANBcusA**eAEFwQkBwDAIA0BLEN7IYV3xL6F3umDKZBSqzYX3d4vjplNdwvMlx4Y3fJfTDTsyADzopfkACtUQFg; _lxsdk_s=16ad81cd055-d21-549-b83%7C%7C17'\n",
    "cookies = {}\n",
    "aa = c.split(';')\n",
    "for line in aa:\n",
    "    key, value = line.split('=', 1)\n",
    "    cookies[key] = value\n",
    "response = requests.get(url, cookies = cookies)\n",
    "print(response.text)"
   ]
  },
  {
   "cell_type": "code",
   "execution_count": 3,
   "metadata": {},
   "outputs": [
    {
     "name": "stdout",
     "output_type": "stream",
     "text": [
      "1000 200 300\n"
     ]
    }
   ],
   "source": [
    "codes = ['1000','200','300']\n",
    "codes_str = ' '.join(codes)\n",
    "print(codes_str)\n",
    "with open(\"/data/stock_new/weeklongshadow.txt\",\"w\") as f:\n",
    "    f.writelines(codes_str)"
   ]
  },
  {
   "cell_type": "code",
   "execution_count": 6,
   "metadata": {},
   "outputs": [
    {
     "name": "stdout",
     "output_type": "stream",
     "text": [
      "['1000', '200', '300']\n"
     ]
    }
   ],
   "source": [
    "codes = []\n",
    "with open(\"/data/stock_new/weeklongshadow.txt\") as f:\n",
    "    code_str = f.readline()\n",
    "    codes = code_str.split(' ')\n",
    "print(codes)"
   ]
  },
  {
   "cell_type": "code",
   "execution_count": 6,
   "metadata": {},
   "outputs": [
    {
     "name": "stdout",
     "output_type": "stream",
     "text": [
      "{'__EVENTTARGET': 'ctl00%24content%24lbtnVote', '__EVENTARGUMENT': '', '__VIEWSTATE': '%2FwEPDwULLTEwODcwNzc2NzhkZHnpWIg18r4iGIyX3DK5%2B%2FHMxeV5', '__VIEWSTATEGENERATOR': 'C9E13C34', 'hiddenCharacterVerifyCodeKey': 'de96bd7596ef5903dae57af4e57bdc9e', 'tbCharacterVerifyCode': '74', 'ctl00%24content%24ucVerifyCode%24hiddenVerifyCodeModeInfo': '5%2Ceed03970d875d95c563f8394b2d2cc61', 'ctl00%24content%24hiddenRefererUrl': '', 'ctl00%24content%24hiddenTimeStampEncodeString': '1562643520%2Cdeefa12b473035e56df683c2a0db33fe', 'ctl00%24content%24hiddenLatitude': '', 'ctl00%24content%24hiddenLongitude': '', 'ctl00%24content%24hiddenGeoLocationEncode': ''}\n",
      "{'ASP.NET_SessionId': '4oigk0sms40kxdbwbrxxf00q', ' __cfduid': 'd3ad9a59bf59ddd8afe7a0155368ef2ea1562643521', ' UM_distinctid': '16bd4cfe00d92-0c0ff141a2cd8e-37647e05-1fa400-16bd4cfe00e228', ' CNZZDATA5855278': 'cnzz_eid%3D1175898653-1562639825-%26ntime%3D1562639825', ' Vote.VoteHistory.2914651': '2019/7/9,1', ' Vote.HasVote.2914651': '2019/7/9 11:38:55', ' Vote.HasVoteJustNow': '0'}\n",
      "<!DOCTYPE html>\r\n",
      "<html>\r\n",
      "    <head>\r\n",
      "        <title>运行时错误</title>\r\n",
      "        <meta name=\"viewport\" content=\"width=device-width\" />\r\n",
      "        <style>\r\n",
      "         body {font-family:\"Verdana\";font-weight:normal;font-size: .7em;color:black;} \r\n",
      "         p {font-family:\"Verdana\";font-weight:normal;color:black;margin-top: -5px}\r\n",
      "         b {font-family:\"Verdana\";font-weight:bold;color:black;margin-top: -5px}\r\n",
      "         H1 { font-family:\"Verdana\";font-weight:normal;font-size:18pt;color:red }\r\n",
      "         H2 { font-family:\"Verdana\";font-weight:normal;font-size:14pt;color:maroon }\r\n",
      "         pre {font-family:\"Consolas\",\"Lucida Console\",Monospace;font-size:11pt;margin:0;padding:0.5em;line-height:14pt}\r\n",
      "         .marker {font-weight: bold; color: black;text-decoration: none;}\r\n",
      "         .version {color: gray;}\r\n",
      "         .error {margin-bottom: 10px;}\r\n",
      "         .expandable { text-decoration:underline; font-weight:bold; color:navy; cursor:hand; }\r\n",
      "         @media screen and (max-width: 639px) {\r\n",
      "          pre { width: 440px; overflow: auto; white-space: pre-wrap; word-wrap: break-word; }\r\n",
      "         }\r\n",
      "         @media screen and (max-width: 479px) {\r\n",
      "          pre { width: 280px; }\r\n",
      "         }\r\n",
      "        </style>\r\n",
      "    </head>\r\n",
      "\r\n",
      "    <body bgcolor=\"white\">\r\n",
      "\r\n",
      "            <span><H1>“/”应用程序中的服务器错误。<hr width=100% size=1 color=silver></H1>\r\n",
      "\r\n",
      "            <h2> <i>运行时错误</i> </h2></span>\r\n",
      "\r\n",
      "            <font face=\"Arial, Helvetica, Geneva, SunSans-Regular, sans-serif \">\r\n",
      "\r\n",
      "            <b> 说明: </b>服务器上出现应用程序错误。此应用程序的当前自定义错误设置禁止远程查看应用程序错误的详细信息(出于安全原因)。但可以通过在本地服务器计算机上运行的浏览器查看。\r\n",
      "            <br><br>\r\n",
      "\r\n",
      "            <b>详细信息:</b> 若要使他人能够在远程计算机上查看此特定错误消息的详细信息，请在位于当前 Web 应用程序根目录下的“web.config”配置文件中创建一个 &lt;customErrors&gt; 标记。然后应将此 &lt;customErrors&gt; 标记的“mode”特性设置为“Off”。<br><br>\r\n",
      "\r\n",
      "            <table width=100% bgcolor=\"#ffffcc\">\r\n",
      "               <tr>\r\n",
      "                  <td>\r\n",
      "                      <code><pre>\r\n",
      "\r\n",
      "&lt;!-- Web.Config 配置文件 --&gt;\r\n",
      "\r\n",
      "&lt;configuration&gt;\r\n",
      "    &lt;system.web&gt;\r\n",
      "        &lt;customErrors mode=&quot;Off&quot;/&gt;\r\n",
      "    &lt;/system.web&gt;\r\n",
      "&lt;/configuration&gt;</pre></code>\r\n",
      "\r\n",
      "                  </td>\r\n",
      "               </tr>\r\n",
      "            </table>\r\n",
      "\r\n",
      "            <br>\r\n",
      "\r\n",
      "            <b>注释:</b> 通过修改应用程序的 &lt;customErrors&gt; 配置标记的“defaultRedirect”特性，使之指向自定义错误页的 URL，可以用自定义错误页替换所看到的当前错误页。<br><br>\r\n",
      "\r\n",
      "            <table width=100% bgcolor=\"#ffffcc\">\r\n",
      "               <tr>\r\n",
      "                  <td>\r\n",
      "                      <code><pre>\r\n",
      "\r\n",
      "&lt;!-- Web.Config 配置文件 --&gt;\r\n",
      "\r\n",
      "&lt;configuration&gt;\r\n",
      "    &lt;system.web&gt;\r\n",
      "        &lt;customErrors mode=&quot;RemoteOnly&quot; defaultRedirect=&quot;mycustompage.htm&quot;/&gt;\r\n",
      "    &lt;/system.web&gt;\r\n",
      "&lt;/configuration&gt;</pre></code>\r\n",
      "\r\n",
      "                  </td>\r\n",
      "               </tr>\r\n",
      "            </table>\r\n",
      "\r\n",
      "            <br>\r\n",
      "\r\n",
      "    </body>\r\n",
      "</html>\r\n",
      "\n"
     ]
    }
   ],
   "source": [
    "import requests\n",
    "\n",
    "url = 'http://f6j6jq.v.vote8.cn/m/Shortcut/7749651'\n",
    "c = 'ASP.NET_SessionId=4oigk0sms40kxdbwbrxxf00q; __cfduid=d3ad9a59bf59ddd8afe7a0155368ef2ea1562643521; UM_distinctid=16bd4cfe00d92-0c0ff141a2cd8e-37647e05-1fa400-16bd4cfe00e228; CNZZDATA5855278=cnzz_eid%3D1175898653-1562639825-%26ntime%3D1562639825; Vote.VoteHistory.2914651=2019/7/9,1; Vote.HasVote.2914651=2019/7/9 11:38:55; Vote.HasVoteJustNow=1'\n",
    "cookies = {}\n",
    "aa = c.split(';')\n",
    "headers = {'User-Agent':'Mozilla/5.0 (Macintosh; Intel Mac OS X 10_13_6) AppleWebKit/537.36 (KHTML, like Gecko) Chrome/75.0.3770.100 Safari/537.36','Referer':'http://f6j6jq.v.vote8.cn/m/Shortcut/7749651'}\n",
    "for line in aa:\n",
    "    key, value = line.split('=', 1)\n",
    "    cookies[key] = value\n",
    "form_data = '__EVENTTARGET=ctl00%24content%24lbtnVote&__EVENTARGUMENT=&__VIEWSTATE=%2FwEPDwULLTEwODcwNzc2NzhkZHnpWIg18r4iGIyX3DK5%2B%2FHMxeV5&__VIEWSTATEGENERATOR=C9E13C34&hiddenCharacterVerifyCodeKey=de96bd7596ef5903dae57af4e57bdc9e&tbCharacterVerifyCode=74&ctl00%24content%24ucVerifyCode%24hiddenVerifyCodeModeInfo=5%2Ceed03970d875d95c563f8394b2d2cc61&ctl00%24content%24hiddenRefererUrl=&ctl00%24content%24hiddenTimeStampEncodeString=1562643520%2Cdeefa12b473035e56df683c2a0db33fe&ctl00%24content%24hiddenLatitude=&ctl00%24content%24hiddenLongitude=&ctl00%24content%24hiddenGeoLocationEncode='\n",
    "forms = {}\n",
    "form_list = form_data.split('&')\n",
    "for form in form_list:\n",
    "    [key, value] = form.split('=')\n",
    "    forms[key] = value;    \n",
    "print(forms)\n",
    "print(cookies)\n",
    "response = requests.post(url, cookies = cookies, data = forms, headers =headers)\n",
    "print(response.text)"
   ]
  },
  {
   "cell_type": "code",
   "execution_count": 10,
   "metadata": {},
   "outputs": [
    {
     "name": "stdout",
     "output_type": "stream",
     "text": [
      "{\"code\":500,\"message\":\"服务器异常，请稍候再试\",\"accountId\":2299649,\"data\":{}}\n"
     ]
    }
   ],
   "source": [
    "import requests\n",
    "\n",
    "url = 'http://localhost:8081/ajax/home/feeds/upload'\n",
    "c = '_lxsdk_cuid=1643efccdf0c8-03061584634fd3-16396952-13c680-1643efccdf0c8; _ga=GA1.2.1896181981.1530172003; isUuidUnion=true; _hc.v=d0e41c4d-2735-9287-7930-dd8e53da69b5.1533521654; ci=1; cityname=%E5%8C%97%E4%BA%AC; iuuid=12768E441D33EE4D26C899B5A6E93F2398AFAA229BB401A989EBE0A219D33B6A; _lxsdk=12768E441D33EE4D26C899B5A6E93F2398AFAA229BB401A989EBE0A219D33B6A; UM_distinctid=168842c690e219-077d5ca308f844-10346654-1fa400-168842c690f276; skmtutc=gR3dhqm7PebzTholC9/ngjv2d+NLg51gKLuxdNhlNSW1F1SB4otofkQXsVjvjj8L-8LbkdljmxTESMJ8/hDbUXrENSB0=; b52397ce8c_ssoid=eAHjYBRoXNfDqHDiwdS7u3WNuJJMjYwtzZNTLZKtFCzM0gyTEw1TLU2Mk0wMLQ0S0wxMtZLNLUwsDQ1TUy3SnMwVjtyYtXyfrgajEUHFFiBrPDaf2PZsp26UgpmFgUFSsqlpcopWiomRkYWlWXKaqWmSpZFlioGhqYUFAPDYLjw**eAENy7EBwDAIA7CXKE1wOccY8v8JzaZFKxzWwZrdTZgpuaiTnh99WLp61AWZv2eAGwSmdnipf1S1EnI'\n",
    "cookies = {}\n",
    "forms = {}\n",
    "forms['contents'] = '111111'\n",
    "final_url = url + '?contents=%5B%7B%22shopType%22:%2290%22,%22itemId%22:%2211111%22,%22bizType%22:%2239%22,%22url%22:%22https://m.dianping.com/rankboard/ugcNoteDetail/11111%22%7D,%7B%22shopType%22:%2290%22,%22itemId%22:%2211112%22,%22bizType%22:%2239%22,%22url%22:%22https://m.dianping.com/rankboard/ugcNoteDetail/11112%22%7D%5D%0A'\n",
    "# forms['contents'] = '[{\"shopType\":\"90\",\"itemId\":\"11111\",\"bizType\":\"39\",\"url\":\"https://m.dianping.com/rankboard/ugcNoteDetail/11111\"},{\"shopType\":\"90\",\"itemId\":\"11112\",\"bizType\":\"39\",\"url\":\"https://m.dianping.com/rankboard/ugcNoteDetail/11112\"}]'\n",
    "aa = c.split(';')\n",
    "for line in aa:\n",
    "    key, value = line.split('=', 1)\n",
    "    cookies[key] = value\n",
    "response = requests.get(final_url, cookies = cookies)\n",
    "print(response.text)"
   ]
  }
 ],
 "metadata": {
  "kernelspec": {
   "display_name": "Python 3",
   "language": "python",
   "name": "python3"
  },
  "language_info": {
   "codemirror_mode": {
    "name": "ipython",
    "version": 3
   },
   "file_extension": ".py",
   "mimetype": "text/x-python",
   "name": "python",
   "nbconvert_exporter": "python",
   "pygments_lexer": "ipython3",
   "version": "3.6.5"
  }
 },
 "nbformat": 4,
 "nbformat_minor": 2
}
