{
 "cells": [
  {
   "cell_type": "code",
   "execution_count": 13,
   "metadata": {},
   "outputs": [],
   "source": [
    "'''\n",
    "爬取同花顺问财抓取目标股票\n",
    "'''\n",
    "\n",
    "import requests\n",
    "target = '半年涨停超过5次'\n",
    "\n",
    "# 获取token\n",
    "def getToken(target):\n",
    "    searchUrl = 'http://www.iwencai.com/stockpick/search?w=' + target\n",
    "    headers = {'Host':'www.iwencai.com','User-Agent': 'Mozilla/5.0 (Macintosh; Intel Mac OS X 10.13; rv:67.0) Gecko/20100101 Firefox/67.0'\n",
    "    ,'Accept': 'text/html,application/xhtml+xml,application/xml;q=0.9,*/*;q=0.8','Accept-Language': 'zh-CN,zh;q=0.8,zh-TW;q=0.7,zh-HK;q=0.5,en-US;q=0.3,en;q=0.2','Accept-Encoding': 'gzip, deflate'\n",
    "    , 'Connection': 'keep-alive'}\n",
    "    c = 'v=Au8kcaJL7lxoTOpgVnpl2KjaeAL5lEOj3ehHqgF_i95lUAHyCWTTBu241_IS; PHPSESSID=68b719755b961e9d65c8386f67dbd900; cid=68b719755b961e9d65c8386f67dbd9001564125138; ComputerID=68b719755b961e9d65c8386f67dbd9001564125138'\n",
    "    cookies = {}\n",
    "    cc = c.split(';')\n",
    "    for line in cc:\n",
    "        key, value = line.split('=', 1)\n",
    "        cookies[key] = value\n",
    "    response = requests.get(searchUrl, headers = headers, cookies = cookies)\n",
    "    return response.text.split('\"token\":\"')[-1].split('\"')[0]"
   ]
  },
  {
   "cell_type": "code",
   "execution_count": 14,
   "metadata": {},
   "outputs": [
    {
     "data": {
      "text/plain": [
       "'7700d1915cb36418ab78d4f0aea34e1b'"
      ]
     },
     "execution_count": 14,
     "metadata": {},
     "output_type": "execute_result"
    }
   ],
   "source": [
    "getToken(target)"
   ]
  },
  {
   "cell_type": "code",
   "execution_count": null,
   "metadata": {},
   "outputs": [],
   "source": []
  }
 ],
 "metadata": {
  "kernelspec": {
   "display_name": "Python 3",
   "language": "python",
   "name": "python3"
  },
  "language_info": {
   "codemirror_mode": {
    "name": "ipython",
    "version": 3
   },
   "file_extension": ".py",
   "mimetype": "text/x-python",
   "name": "python",
   "nbconvert_exporter": "python",
   "pygments_lexer": "ipython3",
   "version": "3.6.5"
  }
 },
 "nbformat": 4,
 "nbformat_minor": 2
}
